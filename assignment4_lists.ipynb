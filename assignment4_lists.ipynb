{
 "cells": [
  {
   "cell_type": "code",
   "execution_count": 54,
   "metadata": {},
   "outputs": [
    {
     "name": "stdout",
     "output_type": "stream",
     "text": [
      "Tayyab\n",
      "Junaid\n",
      "Zahid\n",
      "Osama\n",
      "Shahzaib\n",
      "Uzair\n",
      "Mohsan\n",
      "Zaheer\n"
     ]
    }
   ],
   "source": [
    "names: list = [\"Tayyab\", \"Junaid\", \"Zahid\", \"Osama\", \"Shahzaib\", \"Uzair\", \"Mohsan\", \"Zaheer\"]\n",
    "for i in names:\n",
    "    print(i)"
   ]
  },
  {
   "cell_type": "code",
   "execution_count": 55,
   "metadata": {},
   "outputs": [
    {
     "name": "stdout",
     "output_type": "stream",
     "text": [
      "Hello Tayyab! Hope you're having a great day\n",
      "Hello Junaid! Hope you're having a great day\n",
      "Hello Zahid! Hope you're having a great day\n",
      "Hello Osama! Hope you're having a great day\n",
      "Hello Shahzaib! Hope you're having a great day\n",
      "Hello Uzair! Hope you're having a great day\n",
      "Hello Mohsan! Hope you're having a great day\n",
      "Hello Zaheer! Hope you're having a great day\n"
     ]
    }
   ],
   "source": [
    "for i in names:\n",
    "    print(f\"Hello {i}! Hope you're having a great day\")"
   ]
  },
  {
   "cell_type": "code",
   "execution_count": 56,
   "metadata": {},
   "outputs": [
    {
     "name": "stdout",
     "output_type": "stream",
     "text": [
      "I would like to own a Audi A8\n",
      "I would like to own a Audi e-tron G\n",
      "I would like to own a Lamborghini Revuelto\n",
      "I would like to own a Mercedes-Benz EQE 350+ Sedan\n",
      "I would like to own a hyundai Sonata 2.5\n"
     ]
    }
   ],
   "source": [
    "transportation: list = [\"Audi A8\",\"Audi e-tron G\", \"Lamborghini Revuelto\", \"Mercedes-Benz EQE 350+ Sedan\", \"hyundai Sonata 2.5\"]\n",
    "\n",
    "for item in transportation:\n",
    "    print(f\"I would like to own a {item}\")"
   ]
  },
  {
   "cell_type": "code",
   "execution_count": 57,
   "metadata": {},
   "outputs": [
    {
     "name": "stdout",
     "output_type": "stream",
     "text": [
      "Dear Junaid, I would be honored to have you join me for dinner.\n",
      "Dear Zahid, I would be honored to have you join me for dinner.\n",
      "Dear Mohsan, I would be honored to have you join me for dinner.\n"
     ]
    }
   ],
   "source": [
    "dinner_guest:list = [\"Junaid\", \"Zahid\", \"Mohsan\"]\n",
    "\n",
    "for guest in dinner_guest:\n",
    "    print(f\"Dear {guest}, I would be honored to have you join me for dinner.\")"
   ]
  },
  {
   "cell_type": "code",
   "execution_count": 58,
   "metadata": {},
   "outputs": [
    {
     "name": "stdout",
     "output_type": "stream",
     "text": [
      "Unfortunately, Mohsan can't make it to the dinner\n",
      "Dear Junaid, I would be honored to have you join me for dinner.\n",
      "Dear Zahid, I would be honored to have you join me for dinner.\n",
      "Dear Zaheer, I would be honored to have you join me for dinner.\n"
     ]
    }
   ],
   "source": [
    "unable_to_attend = \"Mohsan\"\n",
    "print(f\"Unfortunately, {unable_to_attend} can't make it to the dinner\")\n",
    "\n",
    "dinner_guest[dinner_guest.index(unable_to_attend)] = \"Zaheer\"\n",
    "\n",
    "for guest in dinner_guest:\n",
    "    print(f\"Dear {guest}, I would be honored to have you join me for dinner.\")"
   ]
  },
  {
   "cell_type": "code",
   "execution_count": 59,
   "metadata": {},
   "outputs": [
    {
     "name": "stdout",
     "output_type": "stream",
     "text": [
      "Great news! I found a bigger table, so more guests can be invited\n",
      "Dear Uzair, I would be honored to have you join me for dinner.\n",
      "Dear Junaid, I would be honored to have you join me for dinner.\n",
      "Dear Osama, I would be honored to have you join me for dinner.\n",
      "Dear Zahid, I would be honored to have you join me for dinner.\n",
      "Dear Zaheer, I would be honored to have you join me for dinner.\n",
      "Dear Kamran, I would be honored to have you join me for dinner.\n"
     ]
    }
   ],
   "source": [
    "print(\"Great news! I found a bigger table, so more guests can be invited\")\n",
    "\n",
    "dinner_guest.insert(0,\"Uzair\")\n",
    "dinner_guest.insert(len(dinner_guest)//2,\"Osama\")\n",
    "dinner_guest.append(\"Kamran\")\n",
    "\n",
    "for guest in dinner_guest:\n",
    "    print(f\"Dear {guest}, I would be honored to have you join me for dinner.\")"
   ]
  },
  {
   "cell_type": "code",
   "execution_count": 60,
   "metadata": {},
   "outputs": [
    {
     "name": "stdout",
     "output_type": "stream",
     "text": [
      "All guests invites\n",
      "Dear Uzair, I would be honored to have you join me for dinner.\n",
      "Dear Junaid, I would be honored to have you join me for dinner.\n",
      "Dear Osama, I would be honored to have you join me for dinner.\n",
      "Dear Zahid, I would be honored to have you join me for dinner.\n",
      "Dear Zaheer, I would be honored to have you join me for dinner.\n",
      "Dear Kamran, I would be honored to have you join me for dinner.\n",
      "\n",
      "Unfortunately! I can invite only two peoples to the dinner\n",
      "Sorry, Kamran, I can't invite you to dinner this time.\n",
      "Sorry, Zaheer, I can't invite you to dinner this time.\n",
      "Sorry, Zahid, I can't invite you to dinner this time.\n",
      "Sorry, Osama, I can't invite you to dinner this time.\n",
      "\n",
      "Final Invitaion\n",
      "Dear Uzair, you are still invited to dinner.\n",
      "Dear Junaid, you are still invited to dinner.\n",
      "\n",
      "Final Guest List :  []\n"
     ]
    }
   ],
   "source": [
    "print(\"All guests invites\")\n",
    "for guest in dinner_guest:\n",
    "    print(f\"Dear {guest}, I would be honored to have you join me for dinner.\")\n",
    "\n",
    "print(\"\\nUnfortunately! I can invite only two peoples to the dinner\")\n",
    "\n",
    "while len(dinner_guest) > 2:\n",
    "    removed_guest = dinner_guest.pop()\n",
    "    print(f\"Sorry, {removed_guest}, I can't invite you to dinner this time.\")\n",
    "\n",
    "print(\"\\nFinal Invitaion\")\n",
    "for guest in dinner_guest:\n",
    "    print(f\"Dear {guest}, you are still invited to dinner.\")\n",
    "\n",
    "del dinner_guest[0]\n",
    "del dinner_guest[0]\n",
    "\n",
    "print(f\"\\nFinal Guest List :  {dinner_guest}\")"
   ]
  },
  {
   "cell_type": "code",
   "execution_count": 61,
   "metadata": {},
   "outputs": [
    {
     "name": "stdout",
     "output_type": "stream",
     "text": [
      "['United States of America', 'United Kingdom', 'Germany', 'Saudi Arabia', 'Dubai']\n",
      "\n",
      "List in sorted places\n",
      "['Dubai', 'Germany', 'Saudi Arabia', 'United Kingdom', 'United States of America']\n",
      "\n",
      "List of places after sorted\n",
      "['United States of America', 'United Kingdom', 'Germany', 'Saudi Arabia', 'Dubai']\n",
      "\n",
      "List in Reverse Alphabetically order\n",
      "['United States of America', 'United Kingdom', 'Saudi Arabia', 'Germany', 'Dubai']\n",
      "\n",
      "List after reverse the places\n",
      "['Dubai', 'Saudi Arabia', 'Germany', 'United Kingdom', 'United States of America']\n",
      "\n",
      "List sort alphabetically order\n",
      "['Dubai', 'Germany', 'Saudi Arabia', 'United Kingdom', 'United States of America']\n",
      "\n",
      "List after sort(reverse=True) (reverse-alphabetical order):\n",
      "['United States of America', 'United Kingdom', 'Saudi Arabia', 'Germany', 'Dubai']\n"
     ]
    }
   ],
   "source": [
    "places = [\"United States of America\", \"United Kingdom\", \"Germany\", \"Saudi Arabia\", \"Dubai\"]\n",
    "\n",
    "print(places)\n",
    "\n",
    "print(\"\\nList in sorted places\")\n",
    "print(sorted(places))\n",
    "\n",
    "print(\"\\nList of places after sorted\")\n",
    "print(places)\n",
    "\n",
    "print(\"\\nList in Reverse Alphabetically order\")\n",
    "print(sorted(places, reverse=True))\n",
    "\n",
    "places.reverse()\n",
    "print(\"\\nList after reverse the places\")\n",
    "print(places)\n",
    "\n",
    "places.sort()\n",
    "print(\"\\nList sort alphabetically order\")\n",
    "print(places)\n",
    "\n",
    "places.sort(reverse=True)\n",
    "print(\"\\nList after sort(reverse=True) (reverse-alphabetical order):\")\n",
    "print(places)"
   ]
  },
  {
   "cell_type": "code",
   "execution_count": 62,
   "metadata": {},
   "outputs": [
    {
     "name": "stdout",
     "output_type": "stream",
     "text": [
      "After append: ['United States', 'Canada', 'Germany', 'Japan', 'Australia', 'France']\n",
      "After remove: ['United States', 'Canada', 'Germany', 'Australia', 'France']\n",
      "Popped country: France\n",
      "After pop: ['United States', 'Canada', 'Germany', 'Australia']\n",
      "After sort: ['Australia', 'Canada', 'Germany', 'United States']\n",
      "After reverse: ['United States', 'Germany', 'Canada', 'Australia']\n",
      "After extend: ['United States', 'Germany', 'Canada', 'Australia', 'Brazil', 'India', 'South Africa']\n"
     ]
    }
   ],
   "source": [
    "countries = ['United States', 'Canada', 'Germany', 'Japan', 'Australia']\n",
    "\n",
    "countries.append('France')\n",
    "print(\"After append:\", countries)\n",
    "\n",
    "countries.remove('Japan')\n",
    "print(\"After remove:\", countries)\n",
    "\n",
    "popped_country = countries.pop()\n",
    "print(\"Popped country:\", popped_country)\n",
    "print(\"After pop:\", countries)\n",
    "\n",
    "countries.sort()\n",
    "print(\"After sort:\", countries)\n",
    "\n",
    "countries.reverse()\n",
    "print(\"After reverse:\", countries)\n",
    "\n",
    "more_countries = ['Brazil', 'India', 'South Africa']\n",
    "countries.extend(more_countries)\n",
    "print(\"After extend:\", countries)"
   ]
  },
  {
   "cell_type": "code",
   "execution_count": 63,
   "metadata": {},
   "outputs": [
    {
     "name": "stdout",
     "output_type": "stream",
     "text": [
      "IndexError caught: list index out of range\n",
      "Accessing a valid index (index 2): Canada\n"
     ]
    }
   ],
   "source": [
    "try:\n",
    "    print(countries[10])\n",
    "except IndexError as e:\n",
    "    print(\"IndexError caught:\", e)\n",
    "\n",
    "print(\"Accessing a valid index (index 2):\", countries[2])"
   ]
  },
  {
   "cell_type": "code",
   "execution_count": null,
   "metadata": {},
   "outputs": [],
   "source": []
  }
 ],
 "metadata": {
  "kernelspec": {
   "display_name": "Python 3",
   "language": "python",
   "name": "python3"
  },
  "language_info": {
   "codemirror_mode": {
    "name": "ipython",
    "version": 3
   },
   "file_extension": ".py",
   "mimetype": "text/x-python",
   "name": "python",
   "nbconvert_exporter": "python",
   "pygments_lexer": "ipython3",
   "version": "3.12.2"
  }
 },
 "nbformat": 4,
 "nbformat_minor": 2
}
